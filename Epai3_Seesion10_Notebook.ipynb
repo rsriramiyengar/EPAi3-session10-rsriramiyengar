{
  "nbformat": 4,
  "nbformat_minor": 0,
  "metadata": {
    "colab": {
      "name": "Epai3-Seesion10-Notebook.ipynb",
      "provenance": [],
      "collapsed_sections": [],
      "authorship_tag": "ABX9TyNlpPgyLBX39N42yB+7g5cW",
      "include_colab_link": true
    },
    "kernelspec": {
      "name": "python3",
      "display_name": "Python 3"
    },
    "language_info": {
      "name": "python"
    }
  },
  "cells": [
    {
      "cell_type": "markdown",
      "metadata": {
        "id": "view-in-github",
        "colab_type": "text"
      },
      "source": [
        "<a href=\"https://colab.research.google.com/github/rsriramiyengar/EPAi3-session10-rsriramiyengar/blob/master/Epai3_Seesion10_Notebook.ipynb\" target=\"_parent\"><img src=\"https://colab.research.google.com/assets/colab-badge.svg\" alt=\"Open In Colab\"/></a>"
      ]
    },
    {
      "cell_type": "markdown",
      "metadata": {
        "id": "AqjebiW2cUiH"
      },
      "source": [
        "Test in Notebook for Session10-Sequence"
      ]
    },
    {
      "cell_type": "code",
      "metadata": {
        "id": "DRpc14h1wdFI",
        "colab": {
          "base_uri": "https://localhost:8080/"
        },
        "outputId": "e9d138b8-9715-4370-ec3e-21237856243a"
      },
      "source": [
        "!git clone  https://github.com/rsriramiyengar/EPAi3-session10-rsriramiyengar.git\n"
      ],
      "execution_count": 1,
      "outputs": [
        {
          "output_type": "stream",
          "text": [
            "Cloning into 'EPAi3-session10-rsriramiyengar'...\n",
            "remote: Enumerating objects: 56, done.\u001b[K\n",
            "remote: Counting objects: 100% (56/56), done.\u001b[K\n",
            "remote: Compressing objects: 100% (39/39), done.\u001b[K\n",
            "remote: Total 56 (delta 14), reused 49 (delta 9), pack-reused 0\u001b[K\n",
            "Unpacking objects: 100% (56/56), done.\n"
          ],
          "name": "stdout"
        }
      ]
    },
    {
      "cell_type": "code",
      "metadata": {
        "colab": {
          "base_uri": "https://localhost:8080/"
        },
        "id": "r13NsIz5cSBq",
        "outputId": "1a29827b-38c4-437e-c114-4a32c424f1a0"
      },
      "source": [
        "!ls"
      ],
      "execution_count": 2,
      "outputs": [
        {
          "output_type": "stream",
          "text": [
            "EPAi3-session10-rsriramiyengar\tsample_data\n"
          ],
          "name": "stdout"
        }
      ]
    },
    {
      "cell_type": "code",
      "metadata": {
        "colab": {
          "base_uri": "https://localhost:8080/"
        },
        "id": "Twlsj6DIccYU",
        "outputId": "fd469465-88a1-4c0a-a41f-0bf15e09a52b"
      },
      "source": [
        "cd EPAi3-session10-rsriramiyengar"
      ],
      "execution_count": 3,
      "outputs": [
        {
          "output_type": "stream",
          "text": [
            "/content/EPAi3-session10-rsriramiyengar\n"
          ],
          "name": "stdout"
        }
      ]
    },
    {
      "cell_type": "code",
      "metadata": {
        "colab": {
          "base_uri": "https://localhost:8080/"
        },
        "id": "BlL-se1wfam_",
        "outputId": "b50b3c22-263c-429a-e89a-6256f9263784"
      },
      "source": [
        "!ls"
      ],
      "execution_count": 4,
      "outputs": [
        {
          "output_type": "stream",
          "text": [
            "CustomPolygon.py  Polygon.py  requirements.txt\n",
            "images\t\t  README.md   test_session10.py\n"
          ],
          "name": "stdout"
        }
      ]
    },
    {
      "cell_type": "code",
      "metadata": {
        "id": "3ABpxo1pwkYn"
      },
      "source": [
        "import pytest\n",
        "\n",
        "\n",
        "import Polygon\n",
        "import CustomPolygon\n",
        "from Polygon import Polygon\n",
        "from CustomPolygon import CustomPolygon\n",
        "import math\n",
        "from math import isclose\n",
        "\n",
        "\n",
        "\n",
        "def test_Polygon_edges_1():\n",
        "    \"\"\"\n",
        "    This Test function checks if created class stores and calculates\n",
        "    number of edges less than 3\n",
        "    \"\"\"\n",
        "    with pytest.raises(ValueError) as execinfo:\n",
        "        a = Polygon(2, 2)\n",
        "\n",
        "\n",
        "def test_Polygon_circum_radius_2():\n",
        "    \"\"\"\n",
        "    This Test function checks if created class stores and calculates\n",
        "     with circum radius less 0.\n",
        "    \"\"\"\n",
        "    with pytest.raises(ValueError) as execinfo:\n",
        "        a = Polygon(3, -10)\n",
        "\n",
        "\n",
        "def test_Polygon_edges_3():\n",
        "    \"\"\"\n",
        "    This Test function checks if created class stores and calculates\n",
        "    number of edges correctly\n",
        "    \"\"\"\n",
        "    a = Polygon(10, 10)\n",
        "    assert a.edges == 10, \"Number of edges cannot be different\"\n",
        "\n",
        "\n",
        "def test_Polygon_vertices_4():\n",
        "    \"\"\"\n",
        "    This Test function checks if created class stores and calculates\n",
        "    number of vertices correctly\n",
        "    \"\"\"\n",
        "    a = Polygon(10, 10)\n",
        "    assert a.vertices == 10, \"Number of vertices cannot be different\"\n",
        "\n",
        "\n",
        "def test_Polygon_interiorAngle_5():\n",
        "    \"\"\"\n",
        "    This Test function checks if created class stores and calculates\n",
        "    number of interiorAngle correctly\n",
        "    \"\"\"\n",
        "    a = Polygon(10, 10)\n",
        "    assert a.interiorAngle == 144, \"wrongly calculates interiorAngle\"\n",
        "\n",
        "\n",
        "def test_Polygon_edgeLength_6():\n",
        "    \"\"\"\n",
        "    This Test function checks if created class stores and calculates\n",
        "    number of edgeLength correctly\n",
        "    \"\"\"\n",
        "    a = Polygon(3, 3)\n",
        "    assert a.edgeLength == (2 * 3 * math.sin(math.pi / 3)), \"wrongly calculates edgeLength\"\n",
        "\n",
        "\n",
        "def test_Polygon_apothem_7():\n",
        "    \"\"\"\n",
        "    This Test function checks if created class stores and calculates\n",
        "    number of apothem correctly\n",
        "    \"\"\"\n",
        "    a = Polygon(4, 4)\n",
        "    assert a.apothem == (4 * math.cos(math.pi / 4)), \"wrongly calculates apothem\"\n",
        "\n",
        "\n",
        "def test_Polygon_area_8():\n",
        "    \"\"\"\n",
        "    This Test function checks if created class stores and calculates\n",
        "    number of area correctly\n",
        "    \"\"\"\n",
        "    a = Polygon(5, 5)\n",
        "    assert a.area == 0.5 * 5 * (2 * 5 * math.sin(math.pi / 5)) * (5 * math.cos(math.pi / 5)), \"wrongly calculates area\"\n",
        "\n",
        "\n",
        "def test_Polygon_perimeter_9():\n",
        "    \"\"\"\n",
        "    This Test function checks if created class stores and calculates\n",
        "    number of perimeter correctly\n",
        "    \"\"\"\n",
        "    a = Polygon(6, 6)\n",
        "    assert a.perimeter == 6 * (2 * 6 * math.sin(math.pi / 6)), \"wrongly calculates perimeter\"\n",
        "\n",
        "\n",
        "def test_Polygon_repr_10():\n",
        "    \"\"\"\n",
        "    This Test function checks if created class checks if repr function is written properly\n",
        "    \"\"\"\n",
        "    a = Polygon(6, 6)\n",
        "    assert a.__repr__ != None, \"Repr cannot be None\"\n",
        "\n",
        "\n",
        "def test_Polygon_equal_11():\n",
        "    \"\"\"\n",
        "    This Test function checks if created class checks if equal function is written properly\n",
        "    \"\"\"\n",
        "    a = Polygon(6, 6)\n",
        "    b = Polygon(6, 6)\n",
        "    assert a == b, \"Both Polygon are same\"\n",
        "\n",
        "\n",
        "def test_Polygon_gt_12():\n",
        "    \"\"\"\n",
        "    This Test function checks if created class checks if gt function is written properly\n",
        "    \"\"\"\n",
        "    a = Polygon(6, 6)\n",
        "    b = Polygon(10, 6)\n",
        "    assert a < b, \"b cannot be less than a \"\n",
        "\n",
        "\n",
        "def test_CustomPolygon_edges_1():\n",
        "    \"\"\"\n",
        "    This Test function checks if created class stores and calculates\n",
        "    number of edges less than 3\n",
        "    \"\"\"\n",
        "    with pytest.raises(ValueError) as execinfo:\n",
        "        a = CustomPolygon(2, 2)\n",
        "\n",
        "\n",
        "def test_CustomPolygon_circumradius_2():\n",
        "    \"\"\"\n",
        "    This Test function checks if created class stores and calculates\n",
        "     with circum radius less 0.\n",
        "    \"\"\"\n",
        "    with pytest.raises(ValueError) as execinfo:\n",
        "        a = CustomPolygon(3, -10)\n",
        "\n",
        "def test_CustomPolygon_repr_3():\n",
        "    \"\"\"\n",
        "    This Test function checks if created class checks if repr function is written properly\n",
        "    \"\"\"\n",
        "    a = CustomPolygon(6, 6)\n",
        "    assert a.__repr__ != None, \"Repr cannot be None\"\n",
        "\n",
        "\n",
        "def test_CustomPolygon_len_4():\n",
        "    \"\"\"\n",
        "    This Test function checks if created class checks if len function is written properly\n",
        "    \"\"\"\n",
        "    a = CustomPolygon(7, 6)\n",
        "    assert a.__len__() ==5, \"Length of list is calculated correctly\"\n",
        "\n",
        "def test_CustomPolygon_max_efficiency_5():\n",
        "    \"\"\"\n",
        "    This Test function checks if created class calculates max efficency correctly\n",
        "    \"\"\"\n",
        "    a = CustomPolygon(7, 6)\n",
        "    assert a.max_efficiency ==7, \"Polygon with max Efficiecny not calculated correctly \"\n",
        "\n",
        "def test_CustomPolygon_max_efficiency_n_25_6():\n",
        "    \"\"\"\n",
        "    This Test function checks if created class checks if len function is written properly\n",
        "    \"\"\"\n",
        "    a = CustomPolygon(25, 6)\n",
        "    assert a.max_efficiency ==25, \"Polygon with max Efficiency not calculated correctly \"\n",
        "\n",
        "def test_CustomPolygon_getitem_7():\n",
        "    \"\"\"\n",
        "    This Test function checks if created class checks if getitem function is written properly\n",
        "    \"\"\"\n",
        "    a = CustomPolygon(25, 10)\n",
        "    assert isclose(a.__getitem__(7), 4.504844339512096), \"Polygon with max Efficiency not calculated correctly \"\n",
        "\n",
        "def test_CustomPolygon_getitem_n_eq_3_8():\n",
        "    \"\"\"\n",
        "    This Test function checks if created class checks if len function is written properly\n",
        "    \"\"\"\n",
        "    a = CustomPolygon(25, 10)\n",
        "    with pytest.raises(IndexError) as execinfo:\n",
        "        a.__getitem__(2)"
      ],
      "execution_count": 5,
      "outputs": []
    },
    {
      "cell_type": "code",
      "metadata": {
        "colab": {
          "base_uri": "https://localhost:8080/"
        },
        "id": "wW032UTos9oT",
        "outputId": "12d5e4f8-bdbc-43fe-a933-424d8fa35896"
      },
      "source": [
        "test_Polygon_edges_1()\n",
        "test_Polygon_circum_radius_2()\n",
        "test_Polygon_edges_3()\n",
        "test_Polygon_vertices_4()\n",
        "test_Polygon_interiorAngle_5()\n",
        "test_Polygon_edgeLength_6()\n",
        "test_Polygon_apothem_7()\n",
        "test_Polygon_area_8()\n",
        "test_Polygon_perimeter_9()\n",
        "test_Polygon_repr_10()\n",
        "test_Polygon_equal_11()\n",
        "test_Polygon_gt_12()\n",
        "test_CustomPolygon_edges_1()\n",
        "test_CustomPolygon_circumradius_2()\n",
        "test_CustomPolygon_repr_3()\n",
        "test_CustomPolygon_len_4()\n",
        "test_CustomPolygon_max_efficiency_5()\n",
        "test_CustomPolygon_max_efficiency_n_25_6()\n",
        "test_CustomPolygon_getitem_7()\n",
        "test_CustomPolygon_getitem_n_eq_3_8()\n"
      ],
      "execution_count": 6,
      "outputs": [
        {
          "output_type": "stream",
          "text": [
            "Maximum efficiency polygon has Vertices : 7 and Circum Radius : 6 \n",
            "Maximum efficiency polygon has Vertices : 25 and Circum Radius : 6 \n"
          ],
          "name": "stdout"
        }
      ]
    }
  ]
}